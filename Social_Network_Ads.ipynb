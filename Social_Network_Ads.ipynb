{
 "cells": [
  {
   "cell_type": "code",
   "execution_count": 54,
   "id": "0b3d6758",
   "metadata": {},
   "outputs": [],
   "source": [
    "import pandas as pd\n",
    "from matplotlib import pyplot as plt\n",
    "import seaborn as sns\n",
    "from sklearn.tree import DecisionTreeClassifier as DTC\n",
    "from sklearn.preprocessing import StandardScaler\n",
    "from sklearn.neighbors import NearestNeighbors as KNN\n",
    "import numpy as np\n",
    "from sklearn.ensemble import RandomForestClassifier as RFC\n",
    "from sklearn.metrics import r2_score as AS\n",
    "from sklearn.preprocessing import LabelEncoder\n",
    "from sklearn.linear_model import LogisticRegression as lor\n",
    "sna=pd.read_csv('Social_Network_Ads.csv')"
   ]
  },
  {
   "cell_type": "code",
   "execution_count": 2,
   "id": "cd5d43e0",
   "metadata": {},
   "outputs": [
    {
     "data": {
      "text/html": [
       "<div>\n",
       "<style scoped>\n",
       "    .dataframe tbody tr th:only-of-type {\n",
       "        vertical-align: middle;\n",
       "    }\n",
       "\n",
       "    .dataframe tbody tr th {\n",
       "        vertical-align: top;\n",
       "    }\n",
       "\n",
       "    .dataframe thead th {\n",
       "        text-align: right;\n",
       "    }\n",
       "</style>\n",
       "<table border=\"1\" class=\"dataframe\">\n",
       "  <thead>\n",
       "    <tr style=\"text-align: right;\">\n",
       "      <th></th>\n",
       "      <th>User ID</th>\n",
       "      <th>Gender</th>\n",
       "      <th>Age</th>\n",
       "      <th>EstimatedSalary</th>\n",
       "      <th>Purchased</th>\n",
       "    </tr>\n",
       "  </thead>\n",
       "  <tbody>\n",
       "    <tr>\n",
       "      <th>0</th>\n",
       "      <td>15624510</td>\n",
       "      <td>Male</td>\n",
       "      <td>19</td>\n",
       "      <td>19000</td>\n",
       "      <td>0</td>\n",
       "    </tr>\n",
       "    <tr>\n",
       "      <th>1</th>\n",
       "      <td>15810944</td>\n",
       "      <td>Male</td>\n",
       "      <td>35</td>\n",
       "      <td>20000</td>\n",
       "      <td>0</td>\n",
       "    </tr>\n",
       "    <tr>\n",
       "      <th>2</th>\n",
       "      <td>15668575</td>\n",
       "      <td>Female</td>\n",
       "      <td>26</td>\n",
       "      <td>43000</td>\n",
       "      <td>0</td>\n",
       "    </tr>\n",
       "    <tr>\n",
       "      <th>3</th>\n",
       "      <td>15603246</td>\n",
       "      <td>Female</td>\n",
       "      <td>27</td>\n",
       "      <td>57000</td>\n",
       "      <td>0</td>\n",
       "    </tr>\n",
       "    <tr>\n",
       "      <th>4</th>\n",
       "      <td>15804002</td>\n",
       "      <td>Male</td>\n",
       "      <td>19</td>\n",
       "      <td>76000</td>\n",
       "      <td>0</td>\n",
       "    </tr>\n",
       "    <tr>\n",
       "      <th>...</th>\n",
       "      <td>...</td>\n",
       "      <td>...</td>\n",
       "      <td>...</td>\n",
       "      <td>...</td>\n",
       "      <td>...</td>\n",
       "    </tr>\n",
       "    <tr>\n",
       "      <th>395</th>\n",
       "      <td>15691863</td>\n",
       "      <td>Female</td>\n",
       "      <td>46</td>\n",
       "      <td>41000</td>\n",
       "      <td>1</td>\n",
       "    </tr>\n",
       "    <tr>\n",
       "      <th>396</th>\n",
       "      <td>15706071</td>\n",
       "      <td>Male</td>\n",
       "      <td>51</td>\n",
       "      <td>23000</td>\n",
       "      <td>1</td>\n",
       "    </tr>\n",
       "    <tr>\n",
       "      <th>397</th>\n",
       "      <td>15654296</td>\n",
       "      <td>Female</td>\n",
       "      <td>50</td>\n",
       "      <td>20000</td>\n",
       "      <td>1</td>\n",
       "    </tr>\n",
       "    <tr>\n",
       "      <th>398</th>\n",
       "      <td>15755018</td>\n",
       "      <td>Male</td>\n",
       "      <td>36</td>\n",
       "      <td>33000</td>\n",
       "      <td>0</td>\n",
       "    </tr>\n",
       "    <tr>\n",
       "      <th>399</th>\n",
       "      <td>15594041</td>\n",
       "      <td>Female</td>\n",
       "      <td>49</td>\n",
       "      <td>36000</td>\n",
       "      <td>1</td>\n",
       "    </tr>\n",
       "  </tbody>\n",
       "</table>\n",
       "<p>400 rows × 5 columns</p>\n",
       "</div>"
      ],
      "text/plain": [
       "      User ID  Gender  Age  EstimatedSalary  Purchased\n",
       "0    15624510    Male   19            19000          0\n",
       "1    15810944    Male   35            20000          0\n",
       "2    15668575  Female   26            43000          0\n",
       "3    15603246  Female   27            57000          0\n",
       "4    15804002    Male   19            76000          0\n",
       "..        ...     ...  ...              ...        ...\n",
       "395  15691863  Female   46            41000          1\n",
       "396  15706071    Male   51            23000          1\n",
       "397  15654296  Female   50            20000          1\n",
       "398  15755018    Male   36            33000          0\n",
       "399  15594041  Female   49            36000          1\n",
       "\n",
       "[400 rows x 5 columns]"
      ]
     },
     "execution_count": 2,
     "metadata": {},
     "output_type": "execute_result"
    }
   ],
   "source": [
    "sna"
   ]
  },
  {
   "cell_type": "code",
   "execution_count": 3,
   "id": "bd2d0526",
   "metadata": {},
   "outputs": [
    {
     "data": {
      "text/plain": [
       "User ID             int64\n",
       "Gender             object\n",
       "Age                 int64\n",
       "EstimatedSalary     int64\n",
       "Purchased           int64\n",
       "dtype: object"
      ]
     },
     "execution_count": 3,
     "metadata": {},
     "output_type": "execute_result"
    }
   ],
   "source": [
    "sna.dtypes"
   ]
  },
  {
   "cell_type": "code",
   "execution_count": 4,
   "id": "1db2159b",
   "metadata": {},
   "outputs": [],
   "source": [
    "le=LabelEncoder()"
   ]
  },
  {
   "cell_type": "code",
   "execution_count": 5,
   "id": "16739390",
   "metadata": {},
   "outputs": [
    {
     "data": {
      "text/plain": [
       "LabelEncoder()"
      ]
     },
     "execution_count": 5,
     "metadata": {},
     "output_type": "execute_result"
    }
   ],
   "source": [
    "le.fit(sna['Gender'])"
   ]
  },
  {
   "cell_type": "code",
   "execution_count": 6,
   "id": "8c08714e",
   "metadata": {},
   "outputs": [
    {
     "data": {
      "text/plain": [
       "array(['Female', 'Male'], dtype=object)"
      ]
     },
     "execution_count": 6,
     "metadata": {},
     "output_type": "execute_result"
    }
   ],
   "source": [
    "le.classes_"
   ]
  },
  {
   "cell_type": "code",
   "execution_count": 7,
   "id": "f2ee58b7",
   "metadata": {},
   "outputs": [],
   "source": [
    "encoded_values=le.transform(sna['Gender'])"
   ]
  },
  {
   "cell_type": "code",
   "execution_count": 8,
   "id": "26389a9c",
   "metadata": {},
   "outputs": [],
   "source": [
    "sna['Gender']=encoded_values"
   ]
  },
  {
   "cell_type": "code",
   "execution_count": 9,
   "id": "b0ca36d5",
   "metadata": {},
   "outputs": [
    {
     "data": {
      "text/html": [
       "<div>\n",
       "<style scoped>\n",
       "    .dataframe tbody tr th:only-of-type {\n",
       "        vertical-align: middle;\n",
       "    }\n",
       "\n",
       "    .dataframe tbody tr th {\n",
       "        vertical-align: top;\n",
       "    }\n",
       "\n",
       "    .dataframe thead th {\n",
       "        text-align: right;\n",
       "    }\n",
       "</style>\n",
       "<table border=\"1\" class=\"dataframe\">\n",
       "  <thead>\n",
       "    <tr style=\"text-align: right;\">\n",
       "      <th></th>\n",
       "      <th>User ID</th>\n",
       "      <th>Gender</th>\n",
       "      <th>Age</th>\n",
       "      <th>EstimatedSalary</th>\n",
       "      <th>Purchased</th>\n",
       "    </tr>\n",
       "  </thead>\n",
       "  <tbody>\n",
       "    <tr>\n",
       "      <th>0</th>\n",
       "      <td>15624510</td>\n",
       "      <td>1</td>\n",
       "      <td>19</td>\n",
       "      <td>19000</td>\n",
       "      <td>0</td>\n",
       "    </tr>\n",
       "    <tr>\n",
       "      <th>1</th>\n",
       "      <td>15810944</td>\n",
       "      <td>1</td>\n",
       "      <td>35</td>\n",
       "      <td>20000</td>\n",
       "      <td>0</td>\n",
       "    </tr>\n",
       "    <tr>\n",
       "      <th>2</th>\n",
       "      <td>15668575</td>\n",
       "      <td>0</td>\n",
       "      <td>26</td>\n",
       "      <td>43000</td>\n",
       "      <td>0</td>\n",
       "    </tr>\n",
       "    <tr>\n",
       "      <th>3</th>\n",
       "      <td>15603246</td>\n",
       "      <td>0</td>\n",
       "      <td>27</td>\n",
       "      <td>57000</td>\n",
       "      <td>0</td>\n",
       "    </tr>\n",
       "    <tr>\n",
       "      <th>4</th>\n",
       "      <td>15804002</td>\n",
       "      <td>1</td>\n",
       "      <td>19</td>\n",
       "      <td>76000</td>\n",
       "      <td>0</td>\n",
       "    </tr>\n",
       "    <tr>\n",
       "      <th>...</th>\n",
       "      <td>...</td>\n",
       "      <td>...</td>\n",
       "      <td>...</td>\n",
       "      <td>...</td>\n",
       "      <td>...</td>\n",
       "    </tr>\n",
       "    <tr>\n",
       "      <th>395</th>\n",
       "      <td>15691863</td>\n",
       "      <td>0</td>\n",
       "      <td>46</td>\n",
       "      <td>41000</td>\n",
       "      <td>1</td>\n",
       "    </tr>\n",
       "    <tr>\n",
       "      <th>396</th>\n",
       "      <td>15706071</td>\n",
       "      <td>1</td>\n",
       "      <td>51</td>\n",
       "      <td>23000</td>\n",
       "      <td>1</td>\n",
       "    </tr>\n",
       "    <tr>\n",
       "      <th>397</th>\n",
       "      <td>15654296</td>\n",
       "      <td>0</td>\n",
       "      <td>50</td>\n",
       "      <td>20000</td>\n",
       "      <td>1</td>\n",
       "    </tr>\n",
       "    <tr>\n",
       "      <th>398</th>\n",
       "      <td>15755018</td>\n",
       "      <td>1</td>\n",
       "      <td>36</td>\n",
       "      <td>33000</td>\n",
       "      <td>0</td>\n",
       "    </tr>\n",
       "    <tr>\n",
       "      <th>399</th>\n",
       "      <td>15594041</td>\n",
       "      <td>0</td>\n",
       "      <td>49</td>\n",
       "      <td>36000</td>\n",
       "      <td>1</td>\n",
       "    </tr>\n",
       "  </tbody>\n",
       "</table>\n",
       "<p>400 rows × 5 columns</p>\n",
       "</div>"
      ],
      "text/plain": [
       "      User ID  Gender  Age  EstimatedSalary  Purchased\n",
       "0    15624510       1   19            19000          0\n",
       "1    15810944       1   35            20000          0\n",
       "2    15668575       0   26            43000          0\n",
       "3    15603246       0   27            57000          0\n",
       "4    15804002       1   19            76000          0\n",
       "..        ...     ...  ...              ...        ...\n",
       "395  15691863       0   46            41000          1\n",
       "396  15706071       1   51            23000          1\n",
       "397  15654296       0   50            20000          1\n",
       "398  15755018       1   36            33000          0\n",
       "399  15594041       0   49            36000          1\n",
       "\n",
       "[400 rows x 5 columns]"
      ]
     },
     "execution_count": 9,
     "metadata": {},
     "output_type": "execute_result"
    }
   ],
   "source": [
    "sna"
   ]
  },
  {
   "cell_type": "code",
   "execution_count": 10,
   "id": "875551d4",
   "metadata": {},
   "outputs": [
    {
     "data": {
      "text/plain": [
       "User ID            int64\n",
       "Gender             int32\n",
       "Age                int64\n",
       "EstimatedSalary    int64\n",
       "Purchased          int64\n",
       "dtype: object"
      ]
     },
     "execution_count": 10,
     "metadata": {},
     "output_type": "execute_result"
    }
   ],
   "source": [
    "sna.dtypes"
   ]
  },
  {
   "cell_type": "code",
   "execution_count": 11,
   "id": "b0730465",
   "metadata": {},
   "outputs": [
    {
     "data": {
      "text/html": [
       "<div>\n",
       "<style scoped>\n",
       "    .dataframe tbody tr th:only-of-type {\n",
       "        vertical-align: middle;\n",
       "    }\n",
       "\n",
       "    .dataframe tbody tr th {\n",
       "        vertical-align: top;\n",
       "    }\n",
       "\n",
       "    .dataframe thead th {\n",
       "        text-align: right;\n",
       "    }\n",
       "</style>\n",
       "<table border=\"1\" class=\"dataframe\">\n",
       "  <thead>\n",
       "    <tr style=\"text-align: right;\">\n",
       "      <th></th>\n",
       "      <th>User ID</th>\n",
       "      <th>Gender</th>\n",
       "      <th>Age</th>\n",
       "      <th>EstimatedSalary</th>\n",
       "      <th>Purchased</th>\n",
       "    </tr>\n",
       "  </thead>\n",
       "  <tbody>\n",
       "    <tr>\n",
       "      <th>0</th>\n",
       "      <td>15624510</td>\n",
       "      <td>1</td>\n",
       "      <td>19</td>\n",
       "      <td>19000</td>\n",
       "      <td>0</td>\n",
       "    </tr>\n",
       "    <tr>\n",
       "      <th>1</th>\n",
       "      <td>15810944</td>\n",
       "      <td>1</td>\n",
       "      <td>35</td>\n",
       "      <td>20000</td>\n",
       "      <td>0</td>\n",
       "    </tr>\n",
       "    <tr>\n",
       "      <th>2</th>\n",
       "      <td>15668575</td>\n",
       "      <td>0</td>\n",
       "      <td>26</td>\n",
       "      <td>43000</td>\n",
       "      <td>0</td>\n",
       "    </tr>\n",
       "    <tr>\n",
       "      <th>3</th>\n",
       "      <td>15603246</td>\n",
       "      <td>0</td>\n",
       "      <td>27</td>\n",
       "      <td>57000</td>\n",
       "      <td>0</td>\n",
       "    </tr>\n",
       "    <tr>\n",
       "      <th>4</th>\n",
       "      <td>15804002</td>\n",
       "      <td>1</td>\n",
       "      <td>19</td>\n",
       "      <td>76000</td>\n",
       "      <td>0</td>\n",
       "    </tr>\n",
       "    <tr>\n",
       "      <th>...</th>\n",
       "      <td>...</td>\n",
       "      <td>...</td>\n",
       "      <td>...</td>\n",
       "      <td>...</td>\n",
       "      <td>...</td>\n",
       "    </tr>\n",
       "    <tr>\n",
       "      <th>395</th>\n",
       "      <td>15691863</td>\n",
       "      <td>0</td>\n",
       "      <td>46</td>\n",
       "      <td>41000</td>\n",
       "      <td>1</td>\n",
       "    </tr>\n",
       "    <tr>\n",
       "      <th>396</th>\n",
       "      <td>15706071</td>\n",
       "      <td>1</td>\n",
       "      <td>51</td>\n",
       "      <td>23000</td>\n",
       "      <td>1</td>\n",
       "    </tr>\n",
       "    <tr>\n",
       "      <th>397</th>\n",
       "      <td>15654296</td>\n",
       "      <td>0</td>\n",
       "      <td>50</td>\n",
       "      <td>20000</td>\n",
       "      <td>1</td>\n",
       "    </tr>\n",
       "    <tr>\n",
       "      <th>398</th>\n",
       "      <td>15755018</td>\n",
       "      <td>1</td>\n",
       "      <td>36</td>\n",
       "      <td>33000</td>\n",
       "      <td>0</td>\n",
       "    </tr>\n",
       "    <tr>\n",
       "      <th>399</th>\n",
       "      <td>15594041</td>\n",
       "      <td>0</td>\n",
       "      <td>49</td>\n",
       "      <td>36000</td>\n",
       "      <td>1</td>\n",
       "    </tr>\n",
       "  </tbody>\n",
       "</table>\n",
       "<p>400 rows × 5 columns</p>\n",
       "</div>"
      ],
      "text/plain": [
       "      User ID  Gender  Age  EstimatedSalary  Purchased\n",
       "0    15624510       1   19            19000          0\n",
       "1    15810944       1   35            20000          0\n",
       "2    15668575       0   26            43000          0\n",
       "3    15603246       0   27            57000          0\n",
       "4    15804002       1   19            76000          0\n",
       "..        ...     ...  ...              ...        ...\n",
       "395  15691863       0   46            41000          1\n",
       "396  15706071       1   51            23000          1\n",
       "397  15654296       0   50            20000          1\n",
       "398  15755018       1   36            33000          0\n",
       "399  15594041       0   49            36000          1\n",
       "\n",
       "[400 rows x 5 columns]"
      ]
     },
     "execution_count": 11,
     "metadata": {},
     "output_type": "execute_result"
    }
   ],
   "source": [
    "sna.select_dtypes(include=[np.number])"
   ]
  },
  {
   "cell_type": "code",
   "execution_count": 12,
   "id": "c1cfa948",
   "metadata": {},
   "outputs": [],
   "source": [
    "corr_matrix = sna.corr()"
   ]
  },
  {
   "cell_type": "code",
   "execution_count": 13,
   "id": "8ce147c0",
   "metadata": {},
   "outputs": [
    {
     "data": {
      "text/html": [
       "<div>\n",
       "<style scoped>\n",
       "    .dataframe tbody tr th:only-of-type {\n",
       "        vertical-align: middle;\n",
       "    }\n",
       "\n",
       "    .dataframe tbody tr th {\n",
       "        vertical-align: top;\n",
       "    }\n",
       "\n",
       "    .dataframe thead th {\n",
       "        text-align: right;\n",
       "    }\n",
       "</style>\n",
       "<table border=\"1\" class=\"dataframe\">\n",
       "  <thead>\n",
       "    <tr style=\"text-align: right;\">\n",
       "      <th></th>\n",
       "      <th>User ID</th>\n",
       "      <th>Gender</th>\n",
       "      <th>Age</th>\n",
       "      <th>EstimatedSalary</th>\n",
       "      <th>Purchased</th>\n",
       "    </tr>\n",
       "  </thead>\n",
       "  <tbody>\n",
       "    <tr>\n",
       "      <th>User ID</th>\n",
       "      <td>1.000000</td>\n",
       "      <td>-0.025249</td>\n",
       "      <td>-0.000721</td>\n",
       "      <td>0.071097</td>\n",
       "      <td>0.007120</td>\n",
       "    </tr>\n",
       "    <tr>\n",
       "      <th>Gender</th>\n",
       "      <td>-0.025249</td>\n",
       "      <td>1.000000</td>\n",
       "      <td>-0.073741</td>\n",
       "      <td>-0.060435</td>\n",
       "      <td>-0.042469</td>\n",
       "    </tr>\n",
       "    <tr>\n",
       "      <th>Age</th>\n",
       "      <td>-0.000721</td>\n",
       "      <td>-0.073741</td>\n",
       "      <td>1.000000</td>\n",
       "      <td>0.155238</td>\n",
       "      <td>0.622454</td>\n",
       "    </tr>\n",
       "    <tr>\n",
       "      <th>EstimatedSalary</th>\n",
       "      <td>0.071097</td>\n",
       "      <td>-0.060435</td>\n",
       "      <td>0.155238</td>\n",
       "      <td>1.000000</td>\n",
       "      <td>0.362083</td>\n",
       "    </tr>\n",
       "    <tr>\n",
       "      <th>Purchased</th>\n",
       "      <td>0.007120</td>\n",
       "      <td>-0.042469</td>\n",
       "      <td>0.622454</td>\n",
       "      <td>0.362083</td>\n",
       "      <td>1.000000</td>\n",
       "    </tr>\n",
       "  </tbody>\n",
       "</table>\n",
       "</div>"
      ],
      "text/plain": [
       "                  User ID    Gender       Age  EstimatedSalary  Purchased\n",
       "User ID          1.000000 -0.025249 -0.000721         0.071097   0.007120\n",
       "Gender          -0.025249  1.000000 -0.073741        -0.060435  -0.042469\n",
       "Age             -0.000721 -0.073741  1.000000         0.155238   0.622454\n",
       "EstimatedSalary  0.071097 -0.060435  0.155238         1.000000   0.362083\n",
       "Purchased        0.007120 -0.042469  0.622454         0.362083   1.000000"
      ]
     },
     "execution_count": 13,
     "metadata": {},
     "output_type": "execute_result"
    }
   ],
   "source": [
    "corr_matrix"
   ]
  },
  {
   "cell_type": "code",
   "execution_count": 14,
   "id": "c3c7b3be",
   "metadata": {},
   "outputs": [
    {
     "data": {
      "text/plain": [
       "<AxesSubplot:>"
      ]
     },
     "execution_count": 14,
     "metadata": {},
     "output_type": "execute_result"
    },
    {
     "data": {
      "image/png": "[encoded data removed]",
      "text/plain": [
       "<Figure size 1440x1080 with 2 Axes>"
      ]
     },
     "metadata": {},
     "output_type": "display_data"
    }
   ],
   "source": [
    "# Replace any correlation < |0.3| by 0 for a better visibility\n",
    "corr_matrix[(corr_matrix < 0.3) & (corr_matrix > -0.3)] = 0\n",
    "\n",
    "# Mask the upper part of the heatmap\n",
    "mask = np.triu(np.ones_like(corr_matrix, dtype=bool))\n",
    "\n",
    "# Choose the color map\n",
    "cmap = \"viridis\"\n",
    "\n",
    "# plot the heatmap\n",
    "sns.set(rc = {'figure.figsize':(20,15)})\n",
    "sns.heatmap(corr_matrix, mask=mask, vmax=1.0, vmin=-1.0, linewidths=0.1,\n",
    "            annot_kws={\"size\": 9, \"color\": \"black\"}, square=True, cmap=cmap, annot=True)"
   ]
  },
  {
   "cell_type": "code",
   "execution_count": 15,
   "id": "aefa5be8",
   "metadata": {},
   "outputs": [
    {
     "data": {
      "text/plain": [
       "User ID            0.007120\n",
       "Gender            -0.042469\n",
       "Age                0.622454\n",
       "EstimatedSalary    0.362083\n",
       "Purchased          1.000000\n",
       "Name: Purchased, dtype: float64"
      ]
     },
     "execution_count": 15,
     "metadata": {},
     "output_type": "execute_result"
    }
   ],
   "source": [
    "data_corr=sna.corr()['Purchased']\n",
    "data_corr"
   ]
  },
  {
   "cell_type": "code",
   "execution_count": 16,
   "id": "ebd15360",
   "metadata": {},
   "outputs": [
    {
     "name": "stdout",
     "output_type": "stream",
     "text": [
      "3 strongly correlated values with SalePrice:\n",
      "Purchased          1.000000\n",
      "Age                0.622454\n",
      "EstimatedSalary    0.362083\n",
      "Name: Purchased, dtype: float64\n",
      "\n"
     ]
    }
   ],
   "source": [
    "high_features_list = data_corr[abs(data_corr) >= 0.1].sort_values(ascending=False)\n",
    "print(f\"{len(high_features_list)} strongly correlated values with SalePrice:\\n{high_features_list}\\n\")"
   ]
  },
  {
   "cell_type": "code",
   "execution_count": 17,
   "id": "0f264471",
   "metadata": {},
   "outputs": [
    {
     "data": {
      "text/html": [
       "<div>\n",
       "<style scoped>\n",
       "    .dataframe tbody tr th:only-of-type {\n",
       "        vertical-align: middle;\n",
       "    }\n",
       "\n",
       "    .dataframe tbody tr th {\n",
       "        vertical-align: top;\n",
       "    }\n",
       "\n",
       "    .dataframe thead th {\n",
       "        text-align: right;\n",
       "    }\n",
       "</style>\n",
       "<table border=\"1\" class=\"dataframe\">\n",
       "  <thead>\n",
       "    <tr style=\"text-align: right;\">\n",
       "      <th></th>\n",
       "      <th>User ID</th>\n",
       "      <th>Gender</th>\n",
       "      <th>Age</th>\n",
       "      <th>EstimatedSalary</th>\n",
       "      <th>Purchased</th>\n",
       "    </tr>\n",
       "  </thead>\n",
       "  <tbody>\n",
       "    <tr>\n",
       "      <th>0</th>\n",
       "      <td>15624510</td>\n",
       "      <td>1</td>\n",
       "      <td>19</td>\n",
       "      <td>19000</td>\n",
       "      <td>0</td>\n",
       "    </tr>\n",
       "    <tr>\n",
       "      <th>1</th>\n",
       "      <td>15810944</td>\n",
       "      <td>1</td>\n",
       "      <td>35</td>\n",
       "      <td>20000</td>\n",
       "      <td>0</td>\n",
       "    </tr>\n",
       "    <tr>\n",
       "      <th>2</th>\n",
       "      <td>15668575</td>\n",
       "      <td>0</td>\n",
       "      <td>26</td>\n",
       "      <td>43000</td>\n",
       "      <td>0</td>\n",
       "    </tr>\n",
       "    <tr>\n",
       "      <th>3</th>\n",
       "      <td>15603246</td>\n",
       "      <td>0</td>\n",
       "      <td>27</td>\n",
       "      <td>57000</td>\n",
       "      <td>0</td>\n",
       "    </tr>\n",
       "    <tr>\n",
       "      <th>4</th>\n",
       "      <td>15804002</td>\n",
       "      <td>1</td>\n",
       "      <td>19</td>\n",
       "      <td>76000</td>\n",
       "      <td>0</td>\n",
       "    </tr>\n",
       "    <tr>\n",
       "      <th>...</th>\n",
       "      <td>...</td>\n",
       "      <td>...</td>\n",
       "      <td>...</td>\n",
       "      <td>...</td>\n",
       "      <td>...</td>\n",
       "    </tr>\n",
       "    <tr>\n",
       "      <th>395</th>\n",
       "      <td>15691863</td>\n",
       "      <td>0</td>\n",
       "      <td>46</td>\n",
       "      <td>41000</td>\n",
       "      <td>1</td>\n",
       "    </tr>\n",
       "    <tr>\n",
       "      <th>396</th>\n",
       "      <td>15706071</td>\n",
       "      <td>1</td>\n",
       "      <td>51</td>\n",
       "      <td>23000</td>\n",
       "      <td>1</td>\n",
       "    </tr>\n",
       "    <tr>\n",
       "      <th>397</th>\n",
       "      <td>15654296</td>\n",
       "      <td>0</td>\n",
       "      <td>50</td>\n",
       "      <td>20000</td>\n",
       "      <td>1</td>\n",
       "    </tr>\n",
       "    <tr>\n",
       "      <th>398</th>\n",
       "      <td>15755018</td>\n",
       "      <td>1</td>\n",
       "      <td>36</td>\n",
       "      <td>33000</td>\n",
       "      <td>0</td>\n",
       "    </tr>\n",
       "    <tr>\n",
       "      <th>399</th>\n",
       "      <td>15594041</td>\n",
       "      <td>0</td>\n",
       "      <td>49</td>\n",
       "      <td>36000</td>\n",
       "      <td>1</td>\n",
       "    </tr>\n",
       "  </tbody>\n",
       "</table>\n",
       "<p>400 rows × 5 columns</p>\n",
       "</div>"
      ],
      "text/plain": [
       "      User ID  Gender  Age  EstimatedSalary  Purchased\n",
       "0    15624510       1   19            19000          0\n",
       "1    15810944       1   35            20000          0\n",
       "2    15668575       0   26            43000          0\n",
       "3    15603246       0   27            57000          0\n",
       "4    15804002       1   19            76000          0\n",
       "..        ...     ...  ...              ...        ...\n",
       "395  15691863       0   46            41000          1\n",
       "396  15706071       1   51            23000          1\n",
       "397  15654296       0   50            20000          1\n",
       "398  15755018       1   36            33000          0\n",
       "399  15594041       0   49            36000          1\n",
       "\n",
       "[400 rows x 5 columns]"
      ]
     },
     "execution_count": 17,
     "metadata": {},
     "output_type": "execute_result"
    }
   ],
   "source": [
    "sna"
   ]
  },
  {
   "cell_type": "code",
   "execution_count": 18,
   "id": "96aa38fb",
   "metadata": {},
   "outputs": [],
   "source": [
    "maxs=sna.where((sna['Age']==60))"
   ]
  },
  {
   "cell_type": "code",
   "execution_count": 19,
   "id": "d4d5ceed",
   "metadata": {},
   "outputs": [],
   "source": [
    "age_max=maxs.dropna()"
   ]
  },
  {
   "cell_type": "code",
   "execution_count": 20,
   "id": "83770a3d",
   "metadata": {},
   "outputs": [
    {
     "data": {
      "text/html": [
       "<div>\n",
       "<style scoped>\n",
       "    .dataframe tbody tr th:only-of-type {\n",
       "        vertical-align: middle;\n",
       "    }\n",
       "\n",
       "    .dataframe tbody tr th {\n",
       "        vertical-align: top;\n",
       "    }\n",
       "\n",
       "    .dataframe thead th {\n",
       "        text-align: right;\n",
       "    }\n",
       "</style>\n",
       "<table border=\"1\" class=\"dataframe\">\n",
       "  <thead>\n",
       "    <tr style=\"text-align: right;\">\n",
       "      <th></th>\n",
       "      <th>User ID</th>\n",
       "      <th>Gender</th>\n",
       "      <th>Age</th>\n",
       "      <th>EstimatedSalary</th>\n",
       "      <th>Purchased</th>\n",
       "    </tr>\n",
       "  </thead>\n",
       "  <tbody>\n",
       "    <tr>\n",
       "      <th>215</th>\n",
       "      <td>15779529.0</td>\n",
       "      <td>0.0</td>\n",
       "      <td>60.0</td>\n",
       "      <td>108000.0</td>\n",
       "      <td>1.0</td>\n",
       "    </tr>\n",
       "    <tr>\n",
       "      <th>223</th>\n",
       "      <td>15593715.0</td>\n",
       "      <td>1.0</td>\n",
       "      <td>60.0</td>\n",
       "      <td>102000.0</td>\n",
       "      <td>1.0</td>\n",
       "    </tr>\n",
       "    <tr>\n",
       "      <th>272</th>\n",
       "      <td>15791373.0</td>\n",
       "      <td>1.0</td>\n",
       "      <td>60.0</td>\n",
       "      <td>42000.0</td>\n",
       "      <td>1.0</td>\n",
       "    </tr>\n",
       "    <tr>\n",
       "      <th>355</th>\n",
       "      <td>15606472.0</td>\n",
       "      <td>1.0</td>\n",
       "      <td>60.0</td>\n",
       "      <td>34000.0</td>\n",
       "      <td>1.0</td>\n",
       "    </tr>\n",
       "    <tr>\n",
       "      <th>370</th>\n",
       "      <td>15611430.0</td>\n",
       "      <td>0.0</td>\n",
       "      <td>60.0</td>\n",
       "      <td>46000.0</td>\n",
       "      <td>1.0</td>\n",
       "    </tr>\n",
       "    <tr>\n",
       "      <th>371</th>\n",
       "      <td>15774744.0</td>\n",
       "      <td>1.0</td>\n",
       "      <td>60.0</td>\n",
       "      <td>83000.0</td>\n",
       "      <td>1.0</td>\n",
       "    </tr>\n",
       "    <tr>\n",
       "      <th>393</th>\n",
       "      <td>15635893.0</td>\n",
       "      <td>1.0</td>\n",
       "      <td>60.0</td>\n",
       "      <td>42000.0</td>\n",
       "      <td>1.0</td>\n",
       "    </tr>\n",
       "  </tbody>\n",
       "</table>\n",
       "</div>"
      ],
      "text/plain": [
       "        User ID  Gender   Age  EstimatedSalary  Purchased\n",
       "215  15779529.0     0.0  60.0         108000.0        1.0\n",
       "223  15593715.0     1.0  60.0         102000.0        1.0\n",
       "272  15791373.0     1.0  60.0          42000.0        1.0\n",
       "355  15606472.0     1.0  60.0          34000.0        1.0\n",
       "370  15611430.0     0.0  60.0          46000.0        1.0\n",
       "371  15774744.0     1.0  60.0          83000.0        1.0\n",
       "393  15635893.0     1.0  60.0          42000.0        1.0"
      ]
     },
     "execution_count": 20,
     "metadata": {},
     "output_type": "execute_result"
    }
   ],
   "source": [
    "age_max"
   ]
  },
  {
   "cell_type": "code",
   "execution_count": 21,
   "id": "d8adf364",
   "metadata": {},
   "outputs": [],
   "source": [
    "max_sal=sna.where(sna['EstimatedSalary']==max(sna['EstimatedSalary']))"
   ]
  },
  {
   "cell_type": "code",
   "execution_count": 22,
   "id": "a431cc9f",
   "metadata": {},
   "outputs": [],
   "source": [
    "max_sal=max_sal.dropna()"
   ]
  },
  {
   "cell_type": "code",
   "execution_count": 23,
   "id": "07bf2043",
   "metadata": {},
   "outputs": [
    {
     "data": {
      "text/html": [
       "<div>\n",
       "<style scoped>\n",
       "    .dataframe tbody tr th:only-of-type {\n",
       "        vertical-align: middle;\n",
       "    }\n",
       "\n",
       "    .dataframe tbody tr th {\n",
       "        vertical-align: top;\n",
       "    }\n",
       "\n",
       "    .dataframe thead th {\n",
       "        text-align: right;\n",
       "    }\n",
       "</style>\n",
       "<table border=\"1\" class=\"dataframe\">\n",
       "  <thead>\n",
       "    <tr style=\"text-align: right;\">\n",
       "      <th></th>\n",
       "      <th>User ID</th>\n",
       "      <th>Gender</th>\n",
       "      <th>Age</th>\n",
       "      <th>EstimatedSalary</th>\n",
       "      <th>Purchased</th>\n",
       "    </tr>\n",
       "  </thead>\n",
       "  <tbody>\n",
       "    <tr>\n",
       "      <th>7</th>\n",
       "      <td>15694829.0</td>\n",
       "      <td>0.0</td>\n",
       "      <td>32.0</td>\n",
       "      <td>150000.0</td>\n",
       "      <td>1.0</td>\n",
       "    </tr>\n",
       "    <tr>\n",
       "      <th>211</th>\n",
       "      <td>15735878.0</td>\n",
       "      <td>1.0</td>\n",
       "      <td>52.0</td>\n",
       "      <td>150000.0</td>\n",
       "      <td>1.0</td>\n",
       "    </tr>\n",
       "  </tbody>\n",
       "</table>\n",
       "</div>"
      ],
      "text/plain": [
       "        User ID  Gender   Age  EstimatedSalary  Purchased\n",
       "7    15694829.0     0.0  32.0         150000.0        1.0\n",
       "211  15735878.0     1.0  52.0         150000.0        1.0"
      ]
     },
     "execution_count": 23,
     "metadata": {},
     "output_type": "execute_result"
    }
   ],
   "source": [
    "max_sal"
   ]
  },
  {
   "cell_type": "code",
   "execution_count": 24,
   "id": "6c83d98a",
   "metadata": {},
   "outputs": [
    {
     "data": {
      "text/plain": [
       "User ID    0.007120\n",
       "Gender    -0.042469\n",
       "Name: Purchased, dtype: float64"
      ]
     },
     "execution_count": 24,
     "metadata": {},
     "output_type": "execute_result"
    }
   ],
   "source": [
    "data_corr= data_corr[abs(data_corr) <= 0.1].sort_values(ascending=False)\n",
    "data_corr"
   ]
  },
  {
   "cell_type": "code",
   "execution_count": 25,
   "id": "cdd4e052",
   "metadata": {},
   "outputs": [
    {
     "data": {
      "text/plain": [
       "User ID    0.007120\n",
       "Gender    -0.042469\n",
       "Name: Purchased, dtype: float64"
      ]
     },
     "execution_count": 25,
     "metadata": {},
     "output_type": "execute_result"
    }
   ],
   "source": [
    "data_corr"
   ]
  },
  {
   "cell_type": "code",
   "execution_count": 26,
   "id": "f489ec98",
   "metadata": {},
   "outputs": [],
   "source": [
    "drop_cols=data_corr.index.tolist()"
   ]
  },
  {
   "cell_type": "code",
   "execution_count": 27,
   "id": "1d126a77",
   "metadata": {},
   "outputs": [
    {
     "data": {
      "text/plain": [
       "['User ID', 'Gender']"
      ]
     },
     "execution_count": 27,
     "metadata": {},
     "output_type": "execute_result"
    }
   ],
   "source": [
    "drop_cols"
   ]
  },
  {
   "cell_type": "code",
   "execution_count": 28,
   "id": "02290269",
   "metadata": {},
   "outputs": [
    {
     "data": {
      "text/plain": [
       "['User ID', 'Gender']"
      ]
     },
     "execution_count": 28,
     "metadata": {},
     "output_type": "execute_result"
    }
   ],
   "source": [
    "data_corr.index.tolist()"
   ]
  },
  {
   "cell_type": "code",
   "execution_count": 29,
   "id": "b02d7f99",
   "metadata": {},
   "outputs": [
    {
     "data": {
      "text/plain": [
       "['User ID', 'Gender', 'Age', 'EstimatedSalary', 'Purchased']"
      ]
     },
     "execution_count": 29,
     "metadata": {},
     "output_type": "execute_result"
    }
   ],
   "source": [
    "cols=sna.columns\n",
    "cols=cols.tolist()\n",
    "cols"
   ]
  },
  {
   "cell_type": "code",
   "execution_count": 30,
   "id": "d943468b",
   "metadata": {},
   "outputs": [
    {
     "name": "stdout",
     "output_type": "stream",
     "text": [
      "in\n"
     ]
    }
   ],
   "source": [
    "if drop_cols[0] == cols[0]:\n",
    "    print(\"in\")"
   ]
  },
  {
   "cell_type": "code",
   "execution_count": 31,
   "id": "49d05c22",
   "metadata": {},
   "outputs": [],
   "source": [
    "sna.drop(drop_cols,axis=1,inplace=True)"
   ]
  },
  {
   "cell_type": "code",
   "execution_count": 32,
   "id": "25b09f2f",
   "metadata": {},
   "outputs": [
    {
     "data": {
      "text/html": [
       "<div>\n",
       "<style scoped>\n",
       "    .dataframe tbody tr th:only-of-type {\n",
       "        vertical-align: middle;\n",
       "    }\n",
       "\n",
       "    .dataframe tbody tr th {\n",
       "        vertical-align: top;\n",
       "    }\n",
       "\n",
       "    .dataframe thead th {\n",
       "        text-align: right;\n",
       "    }\n",
       "</style>\n",
       "<table border=\"1\" class=\"dataframe\">\n",
       "  <thead>\n",
       "    <tr style=\"text-align: right;\">\n",
       "      <th></th>\n",
       "      <th>Age</th>\n",
       "      <th>EstimatedSalary</th>\n",
       "      <th>Purchased</th>\n",
       "    </tr>\n",
       "  </thead>\n",
       "  <tbody>\n",
       "    <tr>\n",
       "      <th>0</th>\n",
       "      <td>19</td>\n",
       "      <td>19000</td>\n",
       "      <td>0</td>\n",
       "    </tr>\n",
       "    <tr>\n",
       "      <th>1</th>\n",
       "      <td>35</td>\n",
       "      <td>20000</td>\n",
       "      <td>0</td>\n",
       "    </tr>\n",
       "    <tr>\n",
       "      <th>2</th>\n",
       "      <td>26</td>\n",
       "      <td>43000</td>\n",
       "      <td>0</td>\n",
       "    </tr>\n",
       "    <tr>\n",
       "      <th>3</th>\n",
       "      <td>27</td>\n",
       "      <td>57000</td>\n",
       "      <td>0</td>\n",
       "    </tr>\n",
       "    <tr>\n",
       "      <th>4</th>\n",
       "      <td>19</td>\n",
       "      <td>76000</td>\n",
       "      <td>0</td>\n",
       "    </tr>\n",
       "    <tr>\n",
       "      <th>...</th>\n",
       "      <td>...</td>\n",
       "      <td>...</td>\n",
       "      <td>...</td>\n",
       "    </tr>\n",
       "    <tr>\n",
       "      <th>395</th>\n",
       "      <td>46</td>\n",
       "      <td>41000</td>\n",
       "      <td>1</td>\n",
       "    </tr>\n",
       "    <tr>\n",
       "      <th>396</th>\n",
       "      <td>51</td>\n",
       "      <td>23000</td>\n",
       "      <td>1</td>\n",
       "    </tr>\n",
       "    <tr>\n",
       "      <th>397</th>\n",
       "      <td>50</td>\n",
       "      <td>20000</td>\n",
       "      <td>1</td>\n",
       "    </tr>\n",
       "    <tr>\n",
       "      <th>398</th>\n",
       "      <td>36</td>\n",
       "      <td>33000</td>\n",
       "      <td>0</td>\n",
       "    </tr>\n",
       "    <tr>\n",
       "      <th>399</th>\n",
       "      <td>49</td>\n",
       "      <td>36000</td>\n",
       "      <td>1</td>\n",
       "    </tr>\n",
       "  </tbody>\n",
       "</table>\n",
       "<p>400 rows × 3 columns</p>\n",
       "</div>"
      ],
      "text/plain": [
       "     Age  EstimatedSalary  Purchased\n",
       "0     19            19000          0\n",
       "1     35            20000          0\n",
       "2     26            43000          0\n",
       "3     27            57000          0\n",
       "4     19            76000          0\n",
       "..   ...              ...        ...\n",
       "395   46            41000          1\n",
       "396   51            23000          1\n",
       "397   50            20000          1\n",
       "398   36            33000          0\n",
       "399   49            36000          1\n",
       "\n",
       "[400 rows x 3 columns]"
      ]
     },
     "execution_count": 32,
     "metadata": {},
     "output_type": "execute_result"
    }
   ],
   "source": [
    "sna"
   ]
  },
  {
   "cell_type": "code",
   "execution_count": 33,
   "id": "e3e8f0b9",
   "metadata": {},
   "outputs": [
    {
     "data": {
      "text/plain": [
       "0    257\n",
       "1    143\n",
       "Name: Purchased, dtype: int64"
      ]
     },
     "execution_count": 33,
     "metadata": {},
     "output_type": "execute_result"
    }
   ],
   "source": [
    "sna['Purchased'].value_counts()"
   ]
  },
  {
   "cell_type": "code",
   "execution_count": 34,
   "id": "1e2be368",
   "metadata": {},
   "outputs": [
    {
     "data": {
      "text/plain": [
       "Age                int64\n",
       "EstimatedSalary    int64\n",
       "Purchased          int64\n",
       "dtype: object"
      ]
     },
     "execution_count": 34,
     "metadata": {},
     "output_type": "execute_result"
    }
   ],
   "source": [
    "sna.dtypes"
   ]
  },
  {
   "cell_type": "code",
   "execution_count": 35,
   "id": "8972cb7e",
   "metadata": {},
   "outputs": [],
   "source": [
    "x=sna['Age'].values"
   ]
  },
  {
   "cell_type": "code",
   "execution_count": 36,
   "id": "0700a5fa",
   "metadata": {},
   "outputs": [],
   "source": [
    "y=sna['Purchased'].values"
   ]
  },
  {
   "cell_type": "code",
   "execution_count": 37,
   "id": "b435b39b",
   "metadata": {},
   "outputs": [],
   "source": [
    "#x=sna['EstimatedSalary'].values"
   ]
  },
  {
   "cell_type": "code",
   "execution_count": 38,
   "id": "b71fcf10",
   "metadata": {},
   "outputs": [],
   "source": [
    "from sklearn.model_selection import train_test_split\n",
    "X_train, X_test, y_train, y_test = train_test_split(x, y, test_size = 0.25, random_state = 0)"
   ]
  },
  {
   "cell_type": "code",
   "execution_count": 39,
   "id": "253ad965",
   "metadata": {},
   "outputs": [
    {
     "name": "stdout",
     "output_type": "stream",
     "text": [
      "[44 32 38 32 52 53 39 38 36 36 35 35 42 47 59 49 45 31 46 47 26 60 38 40\n",
      " 42 35 48 48 38 29 26 60 24 42 46 28 39 28 41 45 33 20 31 42 35 33 40 51\n",
      " 46 35 38 36 37 38 60 20 57 42 26 46 35 21 28 41 37 27 39 28 31 25 35 37\n",
      " 35 47 35 48 26 25 52 51 35 33 30 48 41 48 31 31 43 59 18 36 42 47 26 40\n",
      " 46 59 46 35 28 40 59 57 52 47 53 35 58 45 23 46 42 28 38 26 29 37 22 48\n",
      " 49 38 27 46 48 26 35 39 24 32 46 35 56 47 40 32 19 25 35 28 50 40 50 35\n",
      " 40 46 39 20 29 31 47 40 34 38 42 47 39 19 37 36 41 36 48 36 51 27 38 39\n",
      " 22 33 48 58 53 32 54 30 58 26 45 24 40 33 44 22 33 43 24 46 35 54 48 35\n",
      " 37 23 37 31 33 45 30 19 49 39 35 39 24 41 29 54 35 37 29 31 42 30 52 50\n",
      " 56 29 30 26 33 41 36 55 48 41 30 37 41 58 30 20 37 41 49 28 53 40 60 35\n",
      " 21 38 39 37 26 35 54 30 39 29 33 35 41 41 39 27 21 26 31 39 41 47 41 37\n",
      " 60 25 28 38 36 20 56 40 42 20 40 47 18 35 57 34 49 27 19 39 26 25 28 55\n",
      " 50 49 52 35 42 34 37 48 29 36 27 26] [30 38 35 30 35 27 31 36 18 47 30 28 37 39 20 32 37 19 55 35 35 47 41 47\n",
      " 23 49 28 29 37 32 21 37 57 37 24 18 22 34 31 49 27 41 27 35 43 27 37 52\n",
      " 26 49 57 34 35 34 59 45 29 26 49 23 32 60 19 36 19 60 24 27 40 42 32 35\n",
      " 22 45 27 18 42 40 53 47 58 59 24 26 58 42 40 59 46 41 42 37 23 25 24 27\n",
      " 23 48 48 42] [0 1 0 1 1 1 0 0 0 0 0 0 1 1 1 0 1 0 0 1 0 1 0 1 0 0 1 1 1 1 0 1 0 1 0 0 1\n",
      " 0 0 1 0 0 0 0 0 1 1 1 1 0 0 0 1 0 1 0 1 0 0 1 0 0 0 1 0 0 0 1 1 0 0 1 0 1\n",
      " 1 1 0 0 1 1 0 0 1 1 0 1 0 0 1 1 0 1 1 1 0 0 0 0 0 1 0 0 1 1 1 1 1 0 1 1 0\n",
      " 1 0 0 0 0 0 0 0 1 1 0 0 1 0 0 1 0 0 0 1 0 1 1 0 1 0 0 0 0 1 0 0 0 1 1 0 0\n",
      " 0 0 1 0 1 0 0 0 1 0 0 0 0 1 1 1 0 0 0 0 0 0 1 1 1 1 1 0 1 0 0 0 0 0 1 0 0\n",
      " 0 0 0 0 1 1 0 1 0 1 0 0 1 0 0 0 1 0 0 0 0 0 1 0 0 0 0 0 1 0 1 1 0 0 0 0 0\n",
      " 0 1 1 0 0 0 0 1 0 0 0 0 1 0 1 0 1 0 0 0 1 0 0 0 1 0 1 0 0 0 0 0 1 1 0 0 0\n",
      " 0 0 1 0 1 1 0 0 0 0 0 1 0 1 0 0 1 0 0 1 0 1 0 0 0 0 0 0 1 1 1 1 0 0 0 0 1\n",
      " 0 0 0 0] [0 0 0 0 0 0 0 1 0 0 0 0 0 0 0 0 0 0 1 0 0 1 0 1 0 1 0 0 0 0 0 1 1 0 0 0 0\n",
      " 0 0 1 0 0 0 0 1 0 0 1 0 1 1 0 0 0 1 1 0 0 1 0 0 1 0 1 0 1 0 0 0 0 1 0 0 1\n",
      " 0 0 0 0 1 1 1 0 0 0 1 1 0 1 1 0 0 1 0 0 0 1 0 1 1 1]\n"
     ]
    }
   ],
   "source": [
    "print(X_train, X_test, y_train, y_test)"
   ]
  },
  {
   "cell_type": "code",
   "execution_count": 40,
   "id": "e46f24fe",
   "metadata": {},
   "outputs": [],
   "source": [
    "std = StandardScaler()\n",
    "X_train = std.fit_transform(X_train.reshape(-1,1))\n",
    "X_test = std.transform(X_test.reshape(-1,1))"
   ]
  },
  {
   "cell_type": "code",
   "execution_count": 41,
   "id": "91ceffb4",
   "metadata": {},
   "outputs": [
    {
     "name": "stdout",
     "output_type": "stream",
     "text": [
      "[[ 0.58164944]\n",
      " [-0.60673761]\n",
      " [-0.01254409]\n",
      " [-0.60673761]\n",
      " [ 1.37390747]\n",
      " [ 1.47293972]\n",
      " [ 0.08648817]\n",
      " [-0.01254409]\n",
      " [-0.21060859]\n",
      " [-0.21060859]\n",
      " [-0.30964085]\n",
      " [-0.30964085]\n",
      " [ 0.38358493]\n",
      " [ 0.8787462 ]\n",
      " [ 2.06713324]\n",
      " [ 1.07681071]\n",
      " [ 0.68068169]\n",
      " [-0.70576986]\n",
      " [ 0.77971394]\n",
      " [ 0.8787462 ]\n",
      " [-1.20093113]\n",
      " [ 2.1661655 ]\n",
      " [-0.01254409]\n",
      " [ 0.18552042]\n",
      " [ 0.38358493]\n",
      " [-0.30964085]\n",
      " [ 0.97777845]\n",
      " [ 0.97777845]\n",
      " [-0.01254409]\n",
      " [-0.90383437]\n",
      " [-1.20093113]\n",
      " [ 2.1661655 ]\n",
      " [-1.39899564]\n",
      " [ 0.38358493]\n",
      " [ 0.77971394]\n",
      " [-1.00286662]\n",
      " [ 0.08648817]\n",
      " [-1.00286662]\n",
      " [ 0.28455268]\n",
      " [ 0.68068169]\n",
      " [-0.50770535]\n",
      " [-1.79512465]\n",
      " [-0.70576986]\n",
      " [ 0.38358493]\n",
      " [-0.30964085]\n",
      " [-0.50770535]\n",
      " [ 0.18552042]\n",
      " [ 1.27487521]\n",
      " [ 0.77971394]\n",
      " [-0.30964085]\n",
      " [-0.01254409]\n",
      " [-0.21060859]\n",
      " [-0.11157634]\n",
      " [-0.01254409]\n",
      " [ 2.1661655 ]\n",
      " [-1.79512465]\n",
      " [ 1.86906873]\n",
      " [ 0.38358493]\n",
      " [-1.20093113]\n",
      " [ 0.77971394]\n",
      " [-0.30964085]\n",
      " [-1.6960924 ]\n",
      " [-1.00286662]\n",
      " [ 0.28455268]\n",
      " [-0.11157634]\n",
      " [-1.10189888]\n",
      " [ 0.08648817]\n",
      " [-1.00286662]\n",
      " [-0.70576986]\n",
      " [-1.29996338]\n",
      " [-0.30964085]\n",
      " [-0.11157634]\n",
      " [-0.30964085]\n",
      " [ 0.8787462 ]\n",
      " [-0.30964085]\n",
      " [ 0.97777845]\n",
      " [-1.20093113]\n",
      " [-1.29996338]\n",
      " [ 1.37390747]\n",
      " [ 1.27487521]\n",
      " [-0.30964085]\n",
      " [-0.50770535]\n",
      " [-0.80480212]\n",
      " [ 0.97777845]\n",
      " [ 0.28455268]\n",
      " [ 0.97777845]\n",
      " [-0.70576986]\n",
      " [-0.70576986]\n",
      " [ 0.48261718]\n",
      " [ 2.06713324]\n",
      " [-1.99318916]\n",
      " [-0.21060859]\n",
      " [ 0.38358493]\n",
      " [ 0.8787462 ]\n",
      " [-1.20093113]\n",
      " [ 0.18552042]\n",
      " [ 0.77971394]\n",
      " [ 2.06713324]\n",
      " [ 0.77971394]\n",
      " [-0.30964085]\n",
      " [-1.00286662]\n",
      " [ 0.18552042]\n",
      " [ 2.06713324]\n",
      " [ 1.86906873]\n",
      " [ 1.37390747]\n",
      " [ 0.8787462 ]\n",
      " [ 1.47293972]\n",
      " [-0.30964085]\n",
      " [ 1.96810099]\n",
      " [ 0.68068169]\n",
      " [-1.49802789]\n",
      " [ 0.77971394]\n",
      " [ 0.38358493]\n",
      " [-1.00286662]\n",
      " [-0.01254409]\n",
      " [-1.20093113]\n",
      " [-0.90383437]\n",
      " [-0.11157634]\n",
      " [-1.59706014]\n",
      " [ 0.97777845]\n",
      " [ 1.07681071]\n",
      " [-0.01254409]\n",
      " [-1.10189888]\n",
      " [ 0.77971394]\n",
      " [ 0.97777845]\n",
      " [-1.20093113]\n",
      " [-0.30964085]\n",
      " [ 0.08648817]\n",
      " [-1.39899564]\n",
      " [-0.60673761]\n",
      " [ 0.77971394]\n",
      " [-0.30964085]\n",
      " [ 1.77003648]\n",
      " [ 0.8787462 ]\n",
      " [ 0.18552042]\n",
      " [-0.60673761]\n",
      " [-1.89415691]\n",
      " [-1.29996338]\n",
      " [-0.30964085]\n",
      " [-1.00286662]\n",
      " [ 1.17584296]\n",
      " [ 0.18552042]\n",
      " [ 1.17584296]\n",
      " [-0.30964085]\n",
      " [ 0.18552042]\n",
      " [ 0.77971394]\n",
      " [ 0.08648817]\n",
      " [-1.79512465]\n",
      " [-0.90383437]\n",
      " [-0.70576986]\n",
      " [ 0.8787462 ]\n",
      " [ 0.18552042]\n",
      " [-0.4086731 ]\n",
      " [-0.01254409]\n",
      " [ 0.38358493]\n",
      " [ 0.8787462 ]\n",
      " [ 0.08648817]\n",
      " [-1.89415691]\n",
      " [-0.11157634]\n",
      " [-0.21060859]\n",
      " [ 0.28455268]\n",
      " [-0.21060859]\n",
      " [ 0.97777845]\n",
      " [-0.21060859]\n",
      " [ 1.27487521]\n",
      " [-1.10189888]\n",
      " [-0.01254409]\n",
      " [ 0.08648817]\n",
      " [-1.59706014]\n",
      " [-0.50770535]\n",
      " [ 0.97777845]\n",
      " [ 1.96810099]\n",
      " [ 1.47293972]\n",
      " [-0.60673761]\n",
      " [ 1.57197197]\n",
      " [-0.80480212]\n",
      " [ 1.96810099]\n",
      " [-1.20093113]\n",
      " [ 0.68068169]\n",
      " [-1.39899564]\n",
      " [ 0.18552042]\n",
      " [-0.50770535]\n",
      " [ 0.58164944]\n",
      " [-1.59706014]\n",
      " [-0.50770535]\n",
      " [ 0.48261718]\n",
      " [-1.39899564]\n",
      " [ 0.77971394]\n",
      " [-0.30964085]\n",
      " [ 1.57197197]\n",
      " [ 0.97777845]\n",
      " [-0.30964085]\n",
      " [-0.11157634]\n",
      " [-1.49802789]\n",
      " [-0.11157634]\n",
      " [-0.70576986]\n",
      " [-0.50770535]\n",
      " [ 0.68068169]\n",
      " [-0.80480212]\n",
      " [-1.89415691]\n",
      " [ 1.07681071]\n",
      " [ 0.08648817]\n",
      " [-0.30964085]\n",
      " [ 0.08648817]\n",
      " [-1.39899564]\n",
      " [ 0.28455268]\n",
      " [-0.90383437]\n",
      " [ 1.57197197]\n",
      " [-0.30964085]\n",
      " [-0.11157634]\n",
      " [-0.90383437]\n",
      " [-0.70576986]\n",
      " [ 0.38358493]\n",
      " [-0.80480212]\n",
      " [ 1.37390747]\n",
      " [ 1.17584296]\n",
      " [ 1.77003648]\n",
      " [-0.90383437]\n",
      " [-0.80480212]\n",
      " [-1.20093113]\n",
      " [-0.50770535]\n",
      " [ 0.28455268]\n",
      " [-0.21060859]\n",
      " [ 1.67100423]\n",
      " [ 0.97777845]\n",
      " [ 0.28455268]\n",
      " [-0.80480212]\n",
      " [-0.11157634]\n",
      " [ 0.28455268]\n",
      " [ 1.96810099]\n",
      " [-0.80480212]\n",
      " [-1.79512465]\n",
      " [-0.11157634]\n",
      " [ 0.28455268]\n",
      " [ 1.07681071]\n",
      " [-1.00286662]\n",
      " [ 1.47293972]\n",
      " [ 0.18552042]\n",
      " [ 2.1661655 ]\n",
      " [-0.30964085]\n",
      " [-1.6960924 ]\n",
      " [-0.01254409]\n",
      " [ 0.08648817]\n",
      " [-0.11157634]\n",
      " [-1.20093113]\n",
      " [-0.30964085]\n",
      " [ 1.57197197]\n",
      " [-0.80480212]\n",
      " [ 0.08648817]\n",
      " [-0.90383437]\n",
      " [-0.50770535]\n",
      " [-0.30964085]\n",
      " [ 0.28455268]\n",
      " [ 0.28455268]\n",
      " [ 0.08648817]\n",
      " [-1.10189888]\n",
      " [-1.6960924 ]\n",
      " [-1.20093113]\n",
      " [-0.70576986]\n",
      " [ 0.08648817]\n",
      " [ 0.28455268]\n",
      " [ 0.8787462 ]\n",
      " [ 0.28455268]\n",
      " [-0.11157634]\n",
      " [ 2.1661655 ]\n",
      " [-1.29996338]\n",
      " [-1.00286662]\n",
      " [-0.01254409]\n",
      " [-0.21060859]\n",
      " [-1.79512465]\n",
      " [ 1.77003648]\n",
      " [ 0.18552042]\n",
      " [ 0.38358493]\n",
      " [-1.79512465]\n",
      " [ 0.18552042]\n",
      " [ 0.8787462 ]\n",
      " [-1.99318916]\n",
      " [-0.30964085]\n",
      " [ 1.86906873]\n",
      " [-0.4086731 ]\n",
      " [ 1.07681071]\n",
      " [-1.10189888]\n",
      " [-1.89415691]\n",
      " [ 0.08648817]\n",
      " [-1.20093113]\n",
      " [-1.29996338]\n",
      " [-1.00286662]\n",
      " [ 1.67100423]\n",
      " [ 1.17584296]\n",
      " [ 1.07681071]\n",
      " [ 1.37390747]\n",
      " [-0.30964085]\n",
      " [ 0.38358493]\n",
      " [-0.4086731 ]\n",
      " [-0.11157634]\n",
      " [ 0.97777845]\n",
      " [-0.90383437]\n",
      " [-0.21060859]\n",
      " [-1.10189888]\n",
      " [-1.20093113]] [[-0.80480212]\n",
      " [-0.01254409]\n",
      " [-0.30964085]\n",
      " [-0.80480212]\n",
      " [-0.30964085]\n",
      " [-1.10189888]\n",
      " [-0.70576986]\n",
      " [-0.21060859]\n",
      " [-1.99318916]\n",
      " [ 0.8787462 ]\n",
      " [-0.80480212]\n",
      " [-1.00286662]\n",
      " [-0.11157634]\n",
      " [ 0.08648817]\n",
      " [-1.79512465]\n",
      " [-0.60673761]\n",
      " [-0.11157634]\n",
      " [-1.89415691]\n",
      " [ 1.67100423]\n",
      " [-0.30964085]\n",
      " [-0.30964085]\n",
      " [ 0.8787462 ]\n",
      " [ 0.28455268]\n",
      " [ 0.8787462 ]\n",
      " [-1.49802789]\n",
      " [ 1.07681071]\n",
      " [-1.00286662]\n",
      " [-0.90383437]\n",
      " [-0.11157634]\n",
      " [-0.60673761]\n",
      " [-1.6960924 ]\n",
      " [-0.11157634]\n",
      " [ 1.86906873]\n",
      " [-0.11157634]\n",
      " [-1.39899564]\n",
      " [-1.99318916]\n",
      " [-1.59706014]\n",
      " [-0.4086731 ]\n",
      " [-0.70576986]\n",
      " [ 1.07681071]\n",
      " [-1.10189888]\n",
      " [ 0.28455268]\n",
      " [-1.10189888]\n",
      " [-0.30964085]\n",
      " [ 0.48261718]\n",
      " [-1.10189888]\n",
      " [-0.11157634]\n",
      " [ 1.37390747]\n",
      " [-1.20093113]\n",
      " [ 1.07681071]\n",
      " [ 1.86906873]\n",
      " [-0.4086731 ]\n",
      " [-0.30964085]\n",
      " [-0.4086731 ]\n",
      " [ 2.06713324]\n",
      " [ 0.68068169]\n",
      " [-0.90383437]\n",
      " [-1.20093113]\n",
      " [ 1.07681071]\n",
      " [-1.49802789]\n",
      " [-0.60673761]\n",
      " [ 2.1661655 ]\n",
      " [-1.89415691]\n",
      " [-0.21060859]\n",
      " [-1.89415691]\n",
      " [ 2.1661655 ]\n",
      " [-1.39899564]\n",
      " [-1.10189888]\n",
      " [ 0.18552042]\n",
      " [ 0.38358493]\n",
      " [-0.60673761]\n",
      " [-0.30964085]\n",
      " [-1.59706014]\n",
      " [ 0.68068169]\n",
      " [-1.10189888]\n",
      " [-1.99318916]\n",
      " [ 0.38358493]\n",
      " [ 0.18552042]\n",
      " [ 1.47293972]\n",
      " [ 0.8787462 ]\n",
      " [ 1.96810099]\n",
      " [ 2.06713324]\n",
      " [-1.39899564]\n",
      " [-1.20093113]\n",
      " [ 1.96810099]\n",
      " [ 0.38358493]\n",
      " [ 0.18552042]\n",
      " [ 2.06713324]\n",
      " [ 0.77971394]\n",
      " [ 0.28455268]\n",
      " [ 0.38358493]\n",
      " [-0.11157634]\n",
      " [-1.49802789]\n",
      " [-1.29996338]\n",
      " [-1.39899564]\n",
      " [-1.10189888]\n",
      " [-1.49802789]\n",
      " [ 0.97777845]\n",
      " [ 0.97777845]\n",
      " [ 0.38358493]] [0 1 0 1 1 1 0 0 0 0 0 0 1 1 1 0 1 0 0 1 0 1 0 1 0 0 1 1 1 1 0 1 0 1 0 0 1\n",
      " 0 0 1 0 0 0 0 0 1 1 1 1 0 0 0 1 0 1 0 1 0 0 1 0 0 0 1 0 0 0 1 1 0 0 1 0 1\n",
      " 1 1 0 0 1 1 0 0 1 1 0 1 0 0 1 1 0 1 1 1 0 0 0 0 0 1 0 0 1 1 1 1 1 0 1 1 0\n",
      " 1 0 0 0 0 0 0 0 1 1 0 0 1 0 0 1 0 0 0 1 0 1 1 0 1 0 0 0 0 1 0 0 0 1 1 0 0\n",
      " 0 0 1 0 1 0 0 0 1 0 0 0 0 1 1 1 0 0 0 0 0 0 1 1 1 1 1 0 1 0 0 0 0 0 1 0 0\n",
      " 0 0 0 0 1 1 0 1 0 1 0 0 1 0 0 0 1 0 0 0 0 0 1 0 0 0 0 0 1 0 1 1 0 0 0 0 0\n",
      " 0 1 1 0 0 0 0 1 0 0 0 0 1 0 1 0 1 0 0 0 1 0 0 0 1 0 1 0 0 0 0 0 1 1 0 0 0\n",
      " 0 0 1 0 1 1 0 0 0 0 0 1 0 1 0 0 1 0 0 1 0 1 0 0 0 0 0 0 1 1 1 1 0 0 0 0 1\n",
      " 0 0 0 0] [0 0 0 0 0 0 0 1 0 0 0 0 0 0 0 0 0 0 1 0 0 1 0 1 0 1 0 0 0 0 0 1 1 0 0 0 0\n",
      " 0 0 1 0 0 0 0 1 0 0 1 0 1 1 0 0 0 1 1 0 0 1 0 0 1 0 1 0 1 0 0 0 0 1 0 0 1\n",
      " 0 0 0 0 1 1 1 0 0 0 1 1 0 1 1 0 0 1 0 0 0 1 0 1 1 1]\n"
     ]
    }
   ],
   "source": [
    "print(X_train, X_test, y_train, y_test)"
   ]
  },
  {
   "cell_type": "code",
   "execution_count": 44,
   "id": "74564f64",
   "metadata": {},
   "outputs": [],
   "source": [
    "model1 = lor()\n",
    "model1.fit(X_train, y_train)\n",
    "score1 = AS(y_test, model1.predict(X_test))"
   ]
  },
  {
   "cell_type": "code",
   "execution_count": 45,
   "id": "e5033c3e",
   "metadata": {},
   "outputs": [
    {
     "data": {
      "text/plain": [
       "0.5404411764705881"
      ]
     },
     "execution_count": 45,
     "metadata": {},
     "output_type": "execute_result"
    }
   ],
   "source": [
    "score1"
   ]
  },
  {
   "cell_type": "code",
   "execution_count": 46,
   "id": "cd5cb638",
   "metadata": {},
   "outputs": [
    {
     "data": {
      "text/plain": [
       "<matplotlib.collections.PathCollection at 0x25600190190>"
      ]
     },
     "execution_count": 46,
     "metadata": {},
     "output_type": "execute_result"
    },
    {
     "data": {
      "image/png": "[encoded data removed]",
      "text/plain": [
       "<Figure size 1440x1080 with 1 Axes>"
      ]
     },
     "metadata": {},
     "output_type": "display_data"
    }
   ],
   "source": [
    "plt.scatter(x,y)"
   ]
  },
  {
   "cell_type": "code",
   "execution_count": 47,
   "id": "008a3f62",
   "metadata": {},
   "outputs": [
    {
     "data": {
      "text/plain": [
       "DecisionTreeClassifier()"
      ]
     },
     "execution_count": 47,
     "metadata": {},
     "output_type": "execute_result"
    }
   ],
   "source": [
    "dtc=DTC()\n",
    "dtc.fit(x.reshape(-1,1),y.reshape(-1,1))"
   ]
  },
  {
   "cell_type": "code",
   "execution_count": 48,
   "id": "16cc7338",
   "metadata": {},
   "outputs": [
    {
     "data": {
      "text/plain": [
       "array([0, 0, 0, 0, 0, 0, 0, 1, 0, 0, 0, 0, 0, 1, 0, 0, 1, 1, 1, 1, 1, 1,\n",
       "       1, 1, 1, 1, 1, 1, 0, 0, 0, 0, 0, 0, 0, 0, 0, 0, 0, 0, 0, 0, 0, 0,\n",
       "       0, 0, 0, 0, 0, 0, 0, 0, 0, 0, 0, 0, 0, 0, 0, 1, 0, 0, 0, 1, 1, 0,\n",
       "       0, 0, 0, 0, 0, 0, 0, 0, 1, 0, 0, 0, 0, 0, 0, 0, 0, 0, 0, 0, 0, 0,\n",
       "       0, 0, 0, 0, 0, 0, 0, 0, 0, 0, 0, 0, 0, 0, 1, 0, 0, 0, 0, 0, 0, 0,\n",
       "       0, 0, 0, 0, 0, 0, 0, 0, 0, 0, 0, 0, 0, 0, 0, 0, 0, 0, 0, 0, 0, 0,\n",
       "       0, 0, 0, 0, 0, 0, 0, 0, 0, 0, 0, 0, 0, 0, 0, 0, 0, 0, 0, 0, 0, 0,\n",
       "       0, 0, 1, 0, 0, 1, 1, 0, 0, 0, 0, 0, 0, 0, 0, 0, 0, 0, 0, 0, 0, 0,\n",
       "       0, 0, 0, 0, 0, 0, 1, 0, 0, 0, 0, 0, 0, 0, 0, 0, 0, 0, 0, 0, 0, 0,\n",
       "       0, 0, 0, 1, 0, 0, 1, 1, 1, 1, 0, 1, 1, 1, 1, 0, 1, 1, 1, 0, 1, 1,\n",
       "       0, 0, 0, 1, 0, 0, 0, 1, 0, 0, 0, 0, 0, 1, 0, 1, 0, 0, 1, 1, 0, 0,\n",
       "       1, 1, 0, 1, 0, 1, 0, 0, 0, 0, 1, 0, 1, 1, 0, 0, 1, 1, 0, 0, 1, 0,\n",
       "       1, 0, 0, 0, 1, 0, 1, 1, 1, 0, 1, 1, 0, 1, 1, 1, 1, 0, 0, 1, 1, 0,\n",
       "       0, 1, 0, 0, 0, 1, 1, 0, 0, 0, 0, 1, 1, 1, 1, 1, 0, 0, 0, 0, 1, 1,\n",
       "       0, 0, 0, 0, 0, 1, 0, 0, 1, 0, 1, 0, 1, 1, 0, 1, 1, 0, 0, 0, 0, 1,\n",
       "       0, 1, 0, 0, 1, 0, 1, 0, 0, 0, 1, 0, 0, 1, 1, 0, 1, 1, 0, 0, 0, 0,\n",
       "       0, 0, 0, 1, 1, 0, 0, 0, 1, 1, 1, 0, 0, 1, 1, 1, 0, 1, 1, 1, 0, 1,\n",
       "       0, 1, 1, 0, 0, 1, 0, 1, 0, 1, 1, 1, 1, 0, 1, 1, 1, 1, 1, 1, 0, 1,\n",
       "       1, 1, 0, 1], dtype=int64)"
      ]
     },
     "execution_count": 48,
     "metadata": {},
     "output_type": "execute_result"
    }
   ],
   "source": [
    "pred=dtc.predict(x.reshape(-1,1))\n",
    "pred"
   ]
  },
  {
   "cell_type": "code",
   "execution_count": 49,
   "id": "a3d08572",
   "metadata": {},
   "outputs": [
    {
     "data": {
      "text/plain": [
       "0.31430437267013145"
      ]
     },
     "execution_count": 49,
     "metadata": {},
     "output_type": "execute_result"
    }
   ],
   "source": [
    "AS(y,pred)"
   ]
  },
  {
   "cell_type": "code",
   "execution_count": 50,
   "id": "ae06a64e",
   "metadata": {},
   "outputs": [
    {
     "name": "stderr",
     "output_type": "stream",
     "text": [
      "C:\\Users\\numam\\anaconda3\\lib\\site-packages\\sklearn\\utils\\validation.py:63: DataConversionWarning: A column-vector y was passed when a 1d array was expected. Please change the shape of y to (n_samples, ), for example using ravel().\n",
      "  return f(*args, **kwargs)\n"
     ]
    },
    {
     "data": {
      "text/plain": [
       "SVC(kernel='linear')"
      ]
     },
     "execution_count": 50,
     "metadata": {},
     "output_type": "execute_result"
    }
   ],
   "source": [
    "from sklearn.svm import SVC\n",
    "classifier = SVC(kernel=\"linear\")\n",
    "classifier.fit(x.reshape(-1,1), y.reshape(-1,1))"
   ]
  },
  {
   "cell_type": "code",
   "execution_count": 51,
   "id": "b51ffe80",
   "metadata": {},
   "outputs": [],
   "source": [
    "pred=classifier.predict(x.reshape(-1,1))"
   ]
  },
  {
   "cell_type": "code",
   "execution_count": 53,
   "id": "6bc1e782",
   "metadata": {},
   "outputs": [
    {
     "data": {
      "text/plain": [
       "30.34203150934668"
      ]
     },
     "execution_count": 53,
     "metadata": {},
     "output_type": "execute_result"
    }
   ],
   "source": [
    "AS(y,pred)*100\n",
    "# not linearly saperable."
   ]
  },
  {
   "cell_type": "code",
   "execution_count": 58,
   "id": "d1d9bbf3",
   "metadata": {},
   "outputs": [
    {
     "name": "stderr",
     "output_type": "stream",
     "text": [
      "C:\\Users\\numam\\AppData\\Local\\Temp/ipykernel_10904/3116287393.py:2: DataConversionWarning: A column-vector y was passed when a 1d array was expected. Please change the shape of y to (n_samples,), for example using ravel().\n",
      "  rfc.fit(x.reshape(-1,1),y.reshape(-1,1))\n"
     ]
    }
   ],
   "source": [
    "rfc=RFC()\n",
    "rfc.fit(x.reshape(-1,1),y.reshape(-1,1))\n",
    "pred=rfc.predict(x.reshape(-1,1))"
   ]
  },
  {
   "cell_type": "code",
   "execution_count": 60,
   "id": "28edbc1e",
   "metadata": {},
   "outputs": [
    {
     "data": {
      "text/plain": [
       "0.31430437267013145"
      ]
     },
     "execution_count": 60,
     "metadata": {},
     "output_type": "execute_result"
    }
   ],
   "source": [
    "AS(y,pred)"
   ]
  },
  {
   "cell_type": "code",
   "execution_count": 61,
   "id": "08efcb7d",
   "metadata": {},
   "outputs": [],
   "source": [
    "#desicion tree classifier and random forest classifier has similar accuracy !"
   ]
  }
 ],
 "metadata": {
  "kernelspec": {
   "display_name": "Python 3 (ipykernel)",
   "language": "python",
   "name": "python3"
  },
  "language_info": {
   "codemirror_mode": {
    "name": "ipython",
    "version": 3
   },
   "file_extension": ".py",
   "mimetype": "text/x-python",
   "name": "python",
   "nbconvert_exporter": "python",
   "pygments_lexer": "ipython3",
   "version": "3.9.7"
  }
 },
 "nbformat": 4,
 "nbformat_minor": 5
}
